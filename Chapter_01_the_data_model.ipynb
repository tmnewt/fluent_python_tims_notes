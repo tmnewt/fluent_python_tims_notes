{
 "metadata": {
  "language_info": {
   "codemirror_mode": {
    "name": "ipython",
    "version": 3
   },
   "file_extension": ".py",
   "mimetype": "text/x-python",
   "name": "python",
   "nbconvert_exporter": "python",
   "pygments_lexer": "ipython3",
   "version": "3.8.8-final"
  },
  "orig_nbformat": 2,
  "kernelspec": {
   "name": "python3",
   "display_name": "Python 3.8.8 64-bit",
   "metadata": {
    "interpreter": {
     "hash": "7bd32837bb57e852822dbbd4de9ab92ae6f5705dbb0962b02479206dbc33cd3a"
    }
   }
  }
 },
 "nbformat": 4,
 "nbformat_minor": 2,
 "cells": [
  {
   "cell_type": "code",
   "execution_count": 1,
   "metadata": {},
   "outputs": [],
   "source": [
    "from collections import namedtuple"
   ]
  },
  {
   "source": [
    "Compare the following implementation of a 52 card deck versus one naively written (probably a task you did as a student)"
   ],
   "cell_type": "markdown",
   "metadata": {}
  },
  {
   "cell_type": "code",
   "execution_count": 2,
   "metadata": {},
   "outputs": [],
   "source": [
    "Card = namedtuple('Card', ['rank', 'suit'])\n",
    "\n",
    "class DeckExample1:\n",
    "    ranks = '2 3 4 5 6 7 8 9 10 11 J Q K A'.split()\n",
    "    suits = 'spades diamonds clubs hearts'.split()\n",
    "\n",
    "    def __init__(self):\n",
    "        self._cards = [Card(rank, suit) for suit in self.suits\n",
    "                                        for rank in self.ranks]\n",
    "\n",
    "    def __len__(self):\n",
    "        return len(self._cards)\n",
    "\n",
    "    def __getitem__(self, position):\n",
    "        return self._cards[position]"
   ]
  },
  {
   "source": [
    "Very small, yet very powerful"
   ],
   "cell_type": "markdown",
   "metadata": {}
  },
  {
   "cell_type": "code",
   "execution_count": 3,
   "metadata": {},
   "outputs": [
    {
     "output_type": "execute_result",
     "data": {
      "text/plain": [
       "Card(rank='2', suit='spades')"
      ]
     },
     "metadata": {},
     "execution_count": 3
    }
   ],
   "source": [
    "deck = DeckExample1()\n",
    "deck[0]"
   ]
  },
  {
   "cell_type": "code",
   "execution_count": 4,
   "metadata": {},
   "outputs": [
    {
     "output_type": "execute_result",
     "data": {
      "text/plain": [
       "Card(rank='3', suit='spades')"
      ]
     },
     "metadata": {},
     "execution_count": 4
    }
   ],
   "source": [
    "deck[1]"
   ]
  },
  {
   "cell_type": "code",
   "execution_count": 5,
   "metadata": {},
   "outputs": [
    {
     "output_type": "execute_result",
     "data": {
      "text/plain": [
       "Card(rank='A', suit='hearts')"
      ]
     },
     "metadata": {},
     "execution_count": 5
    }
   ],
   "source": [
    "deck[-1]"
   ]
  },
  {
   "cell_type": "code",
   "execution_count": 6,
   "metadata": {},
   "outputs": [
    {
     "output_type": "execute_result",
     "data": {
      "text/plain": [
       "[Card(rank='3', suit='spades'),\n",
       " Card(rank='4', suit='spades'),\n",
       " Card(rank='5', suit='spades'),\n",
       " Card(rank='6', suit='spades')]"
      ]
     },
     "metadata": {},
     "execution_count": 6
    }
   ],
   "source": [
    "deck[1:5]"
   ]
  },
  {
   "source": [
    "This is just a small part of the power `__getitem__` offers"
   ],
   "cell_type": "markdown",
   "metadata": {}
  },
  {
   "cell_type": "code",
   "execution_count": 7,
   "metadata": {},
   "outputs": [],
   "source": [
    "from random import choice"
   ]
  },
  {
   "cell_type": "code",
   "execution_count": 8,
   "metadata": {},
   "outputs": [
    {
     "output_type": "execute_result",
     "data": {
      "text/plain": [
       "Card(rank='9', suit='hearts')"
      ]
     },
     "metadata": {},
     "execution_count": 8
    }
   ],
   "source": [
    "choice(deck)"
   ]
  },
  {
   "cell_type": "code",
   "execution_count": 9,
   "metadata": {},
   "outputs": [
    {
     "output_type": "stream",
     "name": "stdout",
     "text": [
      "Card(rank='2', suit='spades')\nCard(rank='3', suit='spades')\nCard(rank='4', suit='spades')\nCard(rank='5', suit='spades')\nCard(rank='6', suit='spades')\nCard(rank='7', suit='spades')\nCard(rank='8', suit='spades')\nCard(rank='9', suit='spades')\nCard(rank='10', suit='spades')\nCard(rank='11', suit='spades')\nCard(rank='J', suit='spades')\nCard(rank='Q', suit='spades')\nCard(rank='K', suit='spades')\nCard(rank='A', suit='spades')\nCard(rank='2', suit='diamonds')\nCard(rank='3', suit='diamonds')\nCard(rank='4', suit='diamonds')\nCard(rank='5', suit='diamonds')\nCard(rank='6', suit='diamonds')\nCard(rank='7', suit='diamonds')\nCard(rank='8', suit='diamonds')\nCard(rank='9', suit='diamonds')\nCard(rank='10', suit='diamonds')\nCard(rank='11', suit='diamonds')\nCard(rank='J', suit='diamonds')\nCard(rank='Q', suit='diamonds')\nCard(rank='K', suit='diamonds')\nCard(rank='A', suit='diamonds')\nCard(rank='2', suit='clubs')\nCard(rank='3', suit='clubs')\nCard(rank='4', suit='clubs')\nCard(rank='5', suit='clubs')\nCard(rank='6', suit='clubs')\nCard(rank='7', suit='clubs')\nCard(rank='8', suit='clubs')\nCard(rank='9', suit='clubs')\nCard(rank='10', suit='clubs')\nCard(rank='11', suit='clubs')\nCard(rank='J', suit='clubs')\nCard(rank='Q', suit='clubs')\nCard(rank='K', suit='clubs')\nCard(rank='A', suit='clubs')\nCard(rank='2', suit='hearts')\nCard(rank='3', suit='hearts')\nCard(rank='4', suit='hearts')\nCard(rank='5', suit='hearts')\nCard(rank='6', suit='hearts')\nCard(rank='7', suit='hearts')\nCard(rank='8', suit='hearts')\nCard(rank='9', suit='hearts')\nCard(rank='10', suit='hearts')\nCard(rank='11', suit='hearts')\nCard(rank='J', suit='hearts')\nCard(rank='Q', suit='hearts')\nCard(rank='K', suit='hearts')\nCard(rank='A', suit='hearts')\n"
     ]
    }
   ],
   "source": [
    "for card in deck:\n",
    "    print(card)"
   ]
  },
  {
   "source": [
    "You can check for something in the deck."
   ],
   "cell_type": "markdown",
   "metadata": {}
  },
  {
   "cell_type": "code",
   "execution_count": 10,
   "metadata": {},
   "outputs": [
    {
     "output_type": "execute_result",
     "data": {
      "text/plain": [
       "True"
      ]
     },
     "metadata": {},
     "execution_count": 10
    }
   ],
   "source": [
    "test_card = Card('Q', 'hearts')\n",
    "test_card in deck"
   ]
  },
  {
   "cell_type": "code",
   "execution_count": 11,
   "metadata": {},
   "outputs": [
    {
     "output_type": "execute_result",
     "data": {
      "text/plain": [
       "False"
      ]
     },
     "metadata": {},
     "execution_count": 11
    }
   ],
   "source": [
    "test_card = Card('12', 'hearts')\n",
    "test_card in deck"
   ]
  },
  {
   "source": [
    "However be aware that if the collection has no `__contains__` method, the `in` operator does a sequential scan.\n",
    "\n",
    "What about sorting? What can we do allow `sorted()` to work on the card deck? Well, using a helper function we can specify a `key` for how to rank the cards. For instance, suppose cards are ranked according to their suits. Here's how we might implement that"
   ],
   "cell_type": "markdown",
   "metadata": {}
  },
  {
   "cell_type": "code",
   "execution_count": 12,
   "metadata": {},
   "outputs": [],
   "source": [
    "# heres 2 different examples \n",
    "spades_high = dict(spades=3, hearts=2, diamonds=1, clubs=0)\n",
    "\n",
    "def spades_highest(card):\n",
    "    rank_value = DeckExample1.ranks.index(card.rank)\n",
    "    return rank_value * len(spades_high) + spades_high[card.suit]\n",
    "\n",
    "clubs_high = dict(spades=0, hearts=1, diamonds=2, clubs=3)\n",
    "\n",
    "def clubs_highest(card):\n",
    "    rank_value = DeckExample1.ranks.index(card.rank)\n",
    "    return rank_value * len(clubs_high) + clubs_high[card.suit]\n"
   ]
  },
  {
   "source": [
    "Sorted on spades"
   ],
   "cell_type": "markdown",
   "metadata": {}
  },
  {
   "cell_type": "code",
   "execution_count": 13,
   "metadata": {},
   "outputs": [
    {
     "output_type": "stream",
     "name": "stdout",
     "text": [
      "Card(rank='A', suit='spades')\nCard(rank='A', suit='hearts')\nCard(rank='A', suit='diamonds')\nCard(rank='A', suit='clubs')\nCard(rank='K', suit='spades')\nCard(rank='K', suit='hearts')\nCard(rank='K', suit='diamonds')\nCard(rank='K', suit='clubs')\nCard(rank='Q', suit='spades')\nCard(rank='Q', suit='hearts')\nCard(rank='Q', suit='diamonds')\nCard(rank='Q', suit='clubs')\nCard(rank='J', suit='spades')\nCard(rank='J', suit='hearts')\nCard(rank='J', suit='diamonds')\nCard(rank='J', suit='clubs')\nCard(rank='11', suit='spades')\nCard(rank='11', suit='hearts')\nCard(rank='11', suit='diamonds')\nCard(rank='11', suit='clubs')\nCard(rank='10', suit='spades')\nCard(rank='10', suit='hearts')\nCard(rank='10', suit='diamonds')\nCard(rank='10', suit='clubs')\nCard(rank='9', suit='spades')\nCard(rank='9', suit='hearts')\nCard(rank='9', suit='diamonds')\nCard(rank='9', suit='clubs')\nCard(rank='8', suit='spades')\nCard(rank='8', suit='hearts')\nCard(rank='8', suit='diamonds')\nCard(rank='8', suit='clubs')\nCard(rank='7', suit='spades')\nCard(rank='7', suit='hearts')\nCard(rank='7', suit='diamonds')\nCard(rank='7', suit='clubs')\nCard(rank='6', suit='spades')\nCard(rank='6', suit='hearts')\nCard(rank='6', suit='diamonds')\nCard(rank='6', suit='clubs')\nCard(rank='5', suit='spades')\nCard(rank='5', suit='hearts')\nCard(rank='5', suit='diamonds')\nCard(rank='5', suit='clubs')\nCard(rank='4', suit='spades')\nCard(rank='4', suit='hearts')\nCard(rank='4', suit='diamonds')\nCard(rank='4', suit='clubs')\nCard(rank='3', suit='spades')\nCard(rank='3', suit='hearts')\nCard(rank='3', suit='diamonds')\nCard(rank='3', suit='clubs')\nCard(rank='2', suit='spades')\nCard(rank='2', suit='hearts')\nCard(rank='2', suit='diamonds')\nCard(rank='2', suit='clubs')\n"
     ]
    }
   ],
   "source": [
    "for card in sorted(deck, key=spades_highest, reverse=True):\n",
    "    print(card)"
   ]
  },
  {
   "source": [
    "Sorted on clubs"
   ],
   "cell_type": "markdown",
   "metadata": {}
  },
  {
   "cell_type": "code",
   "execution_count": 14,
   "metadata": {},
   "outputs": [
    {
     "output_type": "stream",
     "name": "stdout",
     "text": [
      "Card(rank='A', suit='clubs')\nCard(rank='A', suit='diamonds')\nCard(rank='A', suit='hearts')\nCard(rank='A', suit='spades')\nCard(rank='K', suit='clubs')\nCard(rank='K', suit='diamonds')\nCard(rank='K', suit='hearts')\nCard(rank='K', suit='spades')\nCard(rank='Q', suit='clubs')\nCard(rank='Q', suit='diamonds')\nCard(rank='Q', suit='hearts')\nCard(rank='Q', suit='spades')\nCard(rank='J', suit='clubs')\nCard(rank='J', suit='diamonds')\nCard(rank='J', suit='hearts')\nCard(rank='J', suit='spades')\nCard(rank='11', suit='clubs')\nCard(rank='11', suit='diamonds')\nCard(rank='11', suit='hearts')\nCard(rank='11', suit='spades')\nCard(rank='10', suit='clubs')\nCard(rank='10', suit='diamonds')\nCard(rank='10', suit='hearts')\nCard(rank='10', suit='spades')\nCard(rank='9', suit='clubs')\nCard(rank='9', suit='diamonds')\nCard(rank='9', suit='hearts')\nCard(rank='9', suit='spades')\nCard(rank='8', suit='clubs')\nCard(rank='8', suit='diamonds')\nCard(rank='8', suit='hearts')\nCard(rank='8', suit='spades')\nCard(rank='7', suit='clubs')\nCard(rank='7', suit='diamonds')\nCard(rank='7', suit='hearts')\nCard(rank='7', suit='spades')\nCard(rank='6', suit='clubs')\nCard(rank='6', suit='diamonds')\nCard(rank='6', suit='hearts')\nCard(rank='6', suit='spades')\nCard(rank='5', suit='clubs')\nCard(rank='5', suit='diamonds')\nCard(rank='5', suit='hearts')\nCard(rank='5', suit='spades')\nCard(rank='4', suit='clubs')\nCard(rank='4', suit='diamonds')\nCard(rank='4', suit='hearts')\nCard(rank='4', suit='spades')\nCard(rank='3', suit='clubs')\nCard(rank='3', suit='diamonds')\nCard(rank='3', suit='hearts')\nCard(rank='3', suit='spades')\nCard(rank='2', suit='clubs')\nCard(rank='2', suit='diamonds')\nCard(rank='2', suit='hearts')\nCard(rank='2', suit='spades')\n"
     ]
    }
   ],
   "source": [
    "for card in sorted(deck, key=clubs_highest, reverse=True):\n",
    "    print(card)"
   ]
  },
  {
   "source": [
    "Remember that sorted returns items in ascending order, so to sort in descending order we reverse the order."
   ],
   "cell_type": "markdown",
   "metadata": {}
  },
  {
   "source": [
    "## Lets do some linear algebra"
   ],
   "cell_type": "markdown",
   "metadata": {}
  },
  {
   "cell_type": "code",
   "execution_count": 15,
   "metadata": {},
   "outputs": [],
   "source": [
    "from math import hypot"
   ]
  },
  {
   "cell_type": "code",
   "execution_count": 16,
   "metadata": {},
   "outputs": [],
   "source": [
    "class Vector:\n",
    "    \n",
    "    def __init__(self, x=0, y=0):\n",
    "        self.x = x\n",
    "        self.y = y\n",
    "    \n",
    "    def __repr__(self):\n",
    "        return f'Vector({self.x}, {self.y})'\n",
    "\n",
    "    def __abs__(self):\n",
    "        return hypot(self.x, self.y)\n",
    "\n",
    "    def __bool__(self):\n",
    "        return bool(self.x or self.y)\n",
    "\n",
    "    def __add__(self, other):\n",
    "        x = self.x + other.x\n",
    "        y = self.y + other.y\n",
    "        return Vector(x, y)\n",
    "\n",
    "    def __mul__(self, scalar):\n",
    "        return Vector(self.x * scalar, self.y * scalar)\n"
   ]
  },
  {
   "cell_type": "code",
   "execution_count": 17,
   "metadata": {},
   "outputs": [],
   "source": [
    "a = Vector(1, 3)\n",
    "b = Vector(3, 5)"
   ]
  },
  {
   "cell_type": "code",
   "execution_count": 18,
   "metadata": {},
   "outputs": [
    {
     "output_type": "execute_result",
     "data": {
      "text/plain": [
       "3.1622776601683795"
      ]
     },
     "metadata": {},
     "execution_count": 18
    }
   ],
   "source": [
    "abs(a)"
   ]
  },
  {
   "cell_type": "code",
   "execution_count": 19,
   "metadata": {},
   "outputs": [
    {
     "output_type": "execute_result",
     "data": {
      "text/plain": [
       "5.8309518948453"
      ]
     },
     "metadata": {},
     "execution_count": 19
    }
   ],
   "source": [
    "abs(b)"
   ]
  },
  {
   "cell_type": "code",
   "execution_count": 20,
   "metadata": {},
   "outputs": [
    {
     "output_type": "execute_result",
     "data": {
      "text/plain": [
       "Vector(2, 6)"
      ]
     },
     "metadata": {},
     "execution_count": 20
    }
   ],
   "source": [
    "a += a\n",
    "a"
   ]
  }
 ]
}