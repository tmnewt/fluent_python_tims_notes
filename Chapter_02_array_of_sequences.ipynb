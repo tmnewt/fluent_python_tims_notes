{
 "metadata": {
  "language_info": {
   "codemirror_mode": {
    "name": "ipython",
    "version": 3
   },
   "file_extension": ".py",
   "mimetype": "text/x-python",
   "name": "python",
   "nbconvert_exporter": "python",
   "pygments_lexer": "ipython3",
   "version": "3.8.8-final"
  },
  "orig_nbformat": 2,
  "kernelspec": {
   "name": "python3",
   "display_name": "Python 3",
   "language": "python"
  }
 },
 "nbformat": 4,
 "nbformat_minor": 2,
 "cells": [
  {
   "source": [
    "# Chapter 2\n",
    "Understanding the variety of sequences available in Python saves us from reinventingthe wheel, and their common interface inspires us to create APIs that properly supportand leverage existing and future sequence types.\n",
    "\n",
    "A quick exercise\n",
    "\n",
    "1. Group the following sequence types from the Python standard library as either a container sequence or flat sequence and explain the difference between each group.\n",
    "\n",
    "    `bytes`, `str`, `list`, `deque`, `array`, `bytearray`, `memoryview`, `tuple`\n",
    "\n",
    "    Note: `deque` comes from the `collections` library and `array` comes from the `array` library\n",
    "\n",
    "    *Answers* (in any order)\n",
    "    \n",
    "    * **Container sequences:**\n",
    "    \n",
    "        1. `list`\n",
    "        2. `tuple`\n",
    "        3. `deque` or `collections.deque`\n",
    "    \n",
    "    * **Flat sequences:**\n",
    "    \n",
    "        1. `str`\n",
    "        1. `bytes`\n",
    "        1. `bytearray`\n",
    "        1. `memoryview`\n",
    "        1. `array` or `array.array`\n",
    "    \n",
    "    Explaination: *Container sequences hold references to the objects they contain, which may be of anytype, while flat sequences physically store the value of each item within its own memoryspace, and not as distinct objects. Thus, flat sequences are more compact, but they arelimited to holding primitive values like characters, bytes, and numbers.*\n",
    "\n",
    "2. Regroup each of the above sequence types by its [*mutability*](https://en.wikipedia.org/wiki/Immutable_object). Explain the concept of mutability (and/or immuntabilty) and its usecase:\n",
    "\n",
    "    *Answers* (in any order)\n",
    "\n",
    "    * **Mutable sequences:**\n",
    "    \n",
    "        1. `list`\n",
    "        1. `bytearray`\n",
    "        1. `array` or `array.array`\n",
    "        1. `deque` or `collections.deque`\n",
    "        1. `memoryview`\n",
    "    \n",
    "    * **Immutable sequences:**\n",
    "    \n",
    "        1. `tuple`\n",
    "        2. `str`\n",
    "        3. `bytes`\n",
    "\n",
    "3. (Extra question) Author Luciano states that buit-in concrete sequences do not actually subclass the `Sequence` and `MutableSequence` abstract base classes. Investigate and explain the reasoning for this. Follow up question. Why is the UML class diagram for `Sequence` and `MutableSequence` abstract base classes still useful for formalization of expected functionality for a full-featured sequence type?\n",
    "\n"
   ],
   "cell_type": "markdown",
   "metadata": {}
  },
  {
   "source": [
    "## List comprehension and readability\n",
    "\n",
    "In short, if you ever have trouble understanding what is going on with list comprehension, the trick is to read the line out loud, \n",
    "<html>\n",
    "\n",
    "\n",
    "<div class=\"jp-CodeMirrorEditor jp-Editor jp-InputArea-editor\" data-type=\"inline\">\n",
    "     <div class=\"CodeMirror cm-s-jupyter\">\n",
    "<div class=\" highlight hl-ipython3\"><pre><span></span><span class=\"n\">list_result</span> <span class=\"o\">=</span> <span class=\"p\">[</span><span class=\"n\">do_something</span><span class=\"p\">(</span><span class=\"n\">x</span><span class=\"p\">)</span> <span class=\"k\">for</span> <span class=\"n\">x</span> <span class=\"ow\">in</span> <span class=\"n\">some_list</span><span class=\"p\">]</span>\n",
    "</pre></div>\n",
    "</div>\n",
    "</div>\n",
    "\n",
    "</html>\n",
    "\n",
    "Task: \n",
    "\n",
    "1. Take the following code used to build a list of Unicode codepoints from a string and covert it to a list comprehension. Return the codes as a list of tuples with the symbol followed by its codepoint."
   ],
   "cell_type": "markdown",
   "metadata": {}
  },
  {
   "cell_type": "code",
   "execution_count": 7,
   "metadata": {},
   "outputs": [
    {
     "output_type": "execute_result",
     "data": {
      "text/plain": [
       "[('$', 36), ('¢', 162), ('£', 163), ('¥', 165), ('€', 8364), ('¤', 164)]"
      ]
     },
     "metadata": {},
     "execution_count": 7
    }
   ],
   "source": [
    "# code to convert\n",
    "symbols = '$¢£¥€¤'\n",
    "codes = []\n",
    "for symbol in symbols:\n",
    "    codes.append((symbol, ord(symbol)))\n",
    "\n",
    "codes"
   ]
  },
  {
   "cell_type": "code",
   "execution_count": 8,
   "metadata": {},
   "outputs": [
    {
     "output_type": "execute_result",
     "data": {
      "text/plain": [
       "[('$', 36), ('¢', 162), ('£', 163), ('¥', 165), ('€', 8364), ('¤', 164)]"
      ]
     },
     "metadata": {},
     "execution_count": 8
    }
   ],
   "source": [
    "# answer\n",
    "symbols = '$¢£¥€¤'\n",
    "codes = [ (symbol, ord(symbol)) for symbol in symbols]\n",
    "\n",
    "codes"
   ]
  },
  {
   "source": [
    "OR"
   ],
   "cell_type": "markdown",
   "metadata": {}
  },
  {
   "cell_type": "code",
   "execution_count": 10,
   "metadata": {},
   "outputs": [
    {
     "output_type": "execute_result",
     "data": {
      "text/plain": [
       "[('$', 36), ('¢', 162), ('£', 163), ('¥', 165), ('€', 8364), ('¤', 164)]"
      ]
     },
     "metadata": {},
     "execution_count": 10
    }
   ],
   "source": [
    "codes = [ (symbol, ord(symbol)) for symbol in '$¢£¥€¤']\n",
    "codes"
   ]
  },
  {
   "source": [
    "## Listcomps have their own local scope, like functions. \n",
    "\n",
    "WARNING: This is not true in any version of Python 2.x\n",
    "\n",
    "Below see how the valuable data stored in `x` is not screwed with by the list comprehension."
   ],
   "cell_type": "markdown",
   "metadata": {}
  },
  {
   "cell_type": "code",
   "execution_count": 14,
   "metadata": {},
   "outputs": [
    {
     "output_type": "stream",
     "name": "stdout",
     "text": [
      "the x value is still: [1, 3, 5, 10]\nthe dummy value is:   ['A', 'B', 'C']\n"
     ]
    }
   ],
   "source": [
    "x = [1, 3, 5, 10,]\n",
    "\n",
    "dummy = [x for x in 'ABC']\n",
    "print('the x value is still:', x)\n",
    "print('the dummy value is:  ', dummy)"
   ]
  },
  {
   "source": [
    "This is significant as listcomps address several issues found in normal `for` loops:\n",
    "\n",
    "1. Leaking values\n",
    "\n",
    "    Regular ol `for` loop leak their values into the local name space. Consider the following"
   ],
   "cell_type": "markdown",
   "metadata": {}
  },
  {
   "cell_type": "code",
   "execution_count": 26,
   "metadata": {},
   "outputs": [
    {
     "output_type": "stream",
     "name": "stdout",
     "text": [
      "[3, 3, 5, 3]\nsam\n"
     ]
    }
   ],
   "source": [
    "names = ['tim', 'tom', 'sally', 'sam']\n",
    "lenths_of_names = []\n",
    "for name in names:\n",
    "    lenths_of_names.append(len(name))\n",
    "# var name still exists and it still holds the item it was last assigned\n",
    "print(lenths_of_names)\n",
    "print(name) # will print'sam'"
   ]
  },
  {
   "source": [
    "It turns out that `name` still exists after leaving the `for` loop. This is a variable leak. There are *some* cases where we could leverage variable leaks but most times it is a poor design choice.\n",
    "\n",
    "Listcomps do not have this leak. If you tried to evaluate the variable declared in the list comprehension it will raise a `NameError` (assuming there isn't a variable with the same name in the relevent namespace)\n",
    "\n",
    "Consider:"
   ],
   "cell_type": "markdown",
   "metadata": {}
  },
  {
   "cell_type": "code",
   "execution_count": 24,
   "metadata": {},
   "outputs": [
    {
     "output_type": "stream",
     "name": "stdout",
     "text": [
      "['A', 'B', 'C', 'D']\n"
     ]
    },
    {
     "output_type": "error",
     "ename": "NameError",
     "evalue": "name 'letter' is not defined",
     "traceback": [
      "\u001b[1;31m---------------------------------------------------------------------------\u001b[0m",
      "\u001b[1;31mNameError\u001b[0m                                 Traceback (most recent call last)",
      "\u001b[1;32m<ipython-input-24-619fe5ec6d23>\u001b[0m in \u001b[0;36m<module>\u001b[1;34m\u001b[0m\n\u001b[0;32m      2\u001b[0m \u001b[0mcapitalized\u001b[0m \u001b[1;33m=\u001b[0m \u001b[1;33m[\u001b[0m\u001b[0mletter\u001b[0m\u001b[1;33m.\u001b[0m\u001b[0mcapitalize\u001b[0m\u001b[1;33m(\u001b[0m\u001b[1;33m)\u001b[0m \u001b[1;32mfor\u001b[0m \u001b[0mletter\u001b[0m \u001b[1;32min\u001b[0m \u001b[0mletters\u001b[0m\u001b[1;33m]\u001b[0m\u001b[1;33m\u001b[0m\u001b[1;33m\u001b[0m\u001b[0m\n\u001b[0;32m      3\u001b[0m \u001b[0mprint\u001b[0m\u001b[1;33m(\u001b[0m\u001b[0mcapitalized\u001b[0m\u001b[1;33m)\u001b[0m\u001b[1;33m\u001b[0m\u001b[1;33m\u001b[0m\u001b[0m\n\u001b[1;32m----> 4\u001b[1;33m \u001b[0mprint\u001b[0m\u001b[1;33m(\u001b[0m\u001b[0mletter\u001b[0m\u001b[1;33m)\u001b[0m\u001b[1;33m\u001b[0m\u001b[1;33m\u001b[0m\u001b[0m\n\u001b[0m",
      "\u001b[1;31mNameError\u001b[0m: name 'letter' is not defined"
     ]
    }
   ],
   "source": [
    "letters = ['a', 'b', 'c', 'd']\n",
    "capitalized = [letter.capitalize() for letter in letters]\n",
    "print(capitalized)\n",
    "print(letter)"
   ]
  },
  {
   "source": [
    "I intentially did this to show that `NameError` would be raised. The string object `letter` is only local to the list comprehension namespace (the area within the `[]`). This is because Listcomps follow the same namespace rules as functions.\n",
    "\n",
    "This also addresses the second issue of normal `for` loops:\n",
    "\n",
    "2.  Masking variables in the surrounding namespace scope. \n",
    "\n",
    "consider the following in a normal `for` loop:\n",
    "    "
   ],
   "cell_type": "markdown",
   "metadata": {}
  },
  {
   "cell_type": "code",
   "execution_count": 51,
   "metadata": {},
   "outputs": [
    {
     "output_type": "stream",
     "name": "stdout",
     "text": [
      "[2, 3, 5, 9, 17, 33]\n32\n"
     ]
    }
   ],
   "source": [
    "x = 'some important information'\n",
    "some_other_info = [1,2,4,8,16,32]\n",
    "plus1s = []\n",
    "for x in some_other_info:\n",
    "    plus1s.append(x + 1)\n",
    "print(plus1s)\n",
    "print(x)"
   ]
  },
  {
   "source": [
    "Looks like we lost `some important information`. That's not good. What happened here was the `x` in the for loop masked over the original x value. List comprehension doesn't have that problem."
   ],
   "cell_type": "markdown",
   "metadata": {}
  },
  {
   "cell_type": "code",
   "execution_count": 52,
   "metadata": {},
   "outputs": [
    {
     "output_type": "stream",
     "name": "stdout",
     "text": [
      "[2, 3, 5, 9, 17, 33]\nsome important information\n"
     ]
    }
   ],
   "source": [
    "x = 'some important information'\n",
    "some_other_info = [1,2,4,8,16,32]\n",
    "plus1s = [x+1 for x in some_other_info]\n",
    "print(plus1)\n",
    "print(x)"
   ]
  },
  {
   "source": [
    "Now you might be thinking that all of this could have been avoided if we were just more creative with our names. That's a good point, and you are correct, but what's more important is understanding exactly how python's sequence types work.\n",
    "\n",
    "By the way, with the above knowledge you can write some truly odd syntax such as the following:\n"
   ],
   "cell_type": "markdown",
   "metadata": {}
  },
  {
   "cell_type": "code",
   "execution_count": 54,
   "metadata": {},
   "outputs": [
    {
     "output_type": "stream",
     "name": "stdout",
     "text": [
      "[1, 27, 125, 216]\n[1, 3, 5, 6]\n"
     ]
    }
   ],
   "source": [
    "# Never show this to someone who is just getting started with python.\n",
    "x = [1, 3, 5, 6]\n",
    "triples = [x**3 for x in x]\n",
    "print(triples)\n",
    "print(x)"
   ]
  },
  {
   "source": [
    "Did you know you can use list comprehensions in liue of map/filter?"
   ],
   "cell_type": "markdown",
   "metadata": {}
  },
  {
   "cell_type": "code",
   "execution_count": 55,
   "metadata": {},
   "outputs": [
    {
     "output_type": "stream",
     "name": "stdout",
     "text": [
      "[162, 163, 165, 8364, 164]\n[162, 163, 165, 8364, 164]\n"
     ]
    }
   ],
   "source": [
    "symbols = '$¢£¥€¤'\n",
    "# traditional approach\n",
    "beyond_ascii = list(filter(lambda codepoint: codepoint > 127, map(ord,symbols)))\n",
    "print(beyond_ascii)\n",
    "\n",
    "# using list comprehension.\n",
    "beyond_ascii = [ord(symbol) for symbol in symbols if ord(symbol) > 127]\n",
    "print(beyond_ascii)"
   ]
  },
  {
   "source": [
    "In this case, the list comprehension is faster than the traditional map/filter approach. And it's easier to read.\n",
    "\n",
    "## Cartesian Products\n",
    "\n",
    "This next feature of list comprehensions you may have also seen if you looked into the card deck class built in chapter 1."
   ],
   "cell_type": "markdown",
   "metadata": {}
  },
  {
   "cell_type": "code",
   "execution_count": 56,
   "metadata": {},
   "outputs": [],
   "source": [
    "# some setup\n",
    "from collections import namedtuple\n",
    "Card = namedtuple('Card', ['rank', 'suit'])\n",
    "ranks = [str(n) for n in range(2, 11)] + list('JQKA')    \n",
    "suits = 'spades diamonds clubs hearts'.split()\n",
    "\n",
    "# the actual cartesian product\n",
    "deck = [Card(rank, suit) for rank in ranks\n",
    "                         for suit in suits]\n"
   ]
  },
  {
   "source": [
    "Now you have a full deck to play with"
   ],
   "cell_type": "markdown",
   "metadata": {}
  },
  {
   "source": [
    "# Generator Expressions\n",
    "\n",
    "Generators save memory because they yield items 1 at a time, instead of building a whole list "
   ],
   "cell_type": "markdown",
   "metadata": {}
  },
  {
   "cell_type": "code",
   "execution_count": 58,
   "metadata": {},
   "outputs": [
    {
     "output_type": "stream",
     "name": "stdout",
     "text": [
      "black S\nblack M\nblack L\nwhite S\nwhite M\nwhite L\n"
     ]
    }
   ],
   "source": [
    "colors = ['black', 'white']\n",
    "sizes = ['S', 'M', 'L']\n",
    "for tshirt in (f'{color} {size}' for color in colors for size in sizes):\n",
    "    print(tshirt)"
   ]
  },
  {
   "source": [
    "At no point was a list built. To clarify a bit more:"
   ],
   "cell_type": "markdown",
   "metadata": {}
  },
  {
   "cell_type": "code",
   "execution_count": 59,
   "metadata": {},
   "outputs": [
    {
     "output_type": "stream",
     "name": "stdout",
     "text": [
      "<generator object <genexpr> at 0x000001BEF9DF05F0>\n"
     ]
    }
   ],
   "source": [
    "this_is_a_generator = (f'{color} {size}' for color in colors for size in sizes)\n",
    "print(this_is_a_generator)"
   ]
  },
  {
   "source": [
    "Observe that what we built was a generator. We can now use it elsewhere."
   ],
   "cell_type": "markdown",
   "metadata": {}
  },
  {
   "cell_type": "code",
   "execution_count": 60,
   "metadata": {},
   "outputs": [
    {
     "output_type": "stream",
     "name": "stdout",
     "text": [
      "black S\nblack M\nblack L\nwhite S\nwhite M\nwhite L\n"
     ]
    }
   ],
   "source": [
    "for output in this_is_a_generator:\n",
    "    print(output)"
   ]
  },
  {
   "cell_type": "code",
   "execution_count": 61,
   "metadata": {},
   "outputs": [
    {
     "output_type": "error",
     "ename": "StopIteration",
     "evalue": "",
     "traceback": [
      "\u001b[1;31m---------------------------------------------------------------------------\u001b[0m",
      "\u001b[1;31mStopIteration\u001b[0m                             Traceback (most recent call last)",
      "\u001b[1;32m<ipython-input-61-b8fff89310a9>\u001b[0m in \u001b[0;36m<module>\u001b[1;34m\u001b[0m\n\u001b[1;32m----> 1\u001b[1;33m \u001b[0mnext\u001b[0m\u001b[1;33m(\u001b[0m\u001b[0mthis_is_a_generator\u001b[0m\u001b[1;33m)\u001b[0m\u001b[1;33m\u001b[0m\u001b[1;33m\u001b[0m\u001b[0m\n\u001b[0m",
      "\u001b[1;31mStopIteration\u001b[0m: "
     ]
    }
   ],
   "source": [
    "# we can check that the genertor is exhausted and will raise error StopIteration\n",
    "next(this_is_a_generator)"
   ]
  },
  {
   "source": [
    "# Tuples are not just immutable lists"
   ],
   "cell_type": "markdown",
   "metadata": {}
  },
  {
   "source": [
    "# Something Extra\n",
    "\n",
    "Earlier I mentioned that there are some use-cases where it's necessary to access a leaked variable from a for loop and that doing so is considered poor practice.\n",
    "\n",
    "Here's an example of just that."
   ],
   "cell_type": "markdown",
   "metadata": {}
  },
  {
   "cell_type": "code",
   "execution_count": 34,
   "metadata": {},
   "outputs": [
    {
     "output_type": "stream",
     "name": "stdout",
     "text": [
      "fizzbuzz\nfizzbuzz value: 75\n"
     ]
    }
   ],
   "source": [
    "# getting the first value that satisfys the \"fizzbuzz\" challenge given an arbitrary list:\n",
    "values = [16, 25, 34, 3, 3, 5, 75, 100, 105]\n",
    "has_fizzbuzz = False\n",
    "for x in values:\n",
    "    if x%3==0 and x%5==0:\n",
    "        has_fizzbuzz = True\n",
    "        break\n",
    "if has_fizzbuzz:\n",
    "    print('fizzbuzz')\n",
    "    print('fizzbuzz value:', x)\n",
    "else:\n",
    "    print('no fizzbuzz')"
   ]
  },
  {
   "source": [
    "The above is a terrible approach. It's excessive. It's just awful. I feel dirty just writting this example. Also this a classic example of why coding in `__main__` can be messy.\n",
    "\n",
    "But, by using a function we can get the same results. In short we solved the problem without ever needing to resort to leveraging the leak. "
   ],
   "cell_type": "markdown",
   "metadata": {}
  },
  {
   "cell_type": "code",
   "execution_count": 36,
   "metadata": {},
   "outputs": [
    {
     "output_type": "stream",
     "name": "stdout",
     "text": [
      "fizzbuzz\nfizzbuzz value: 30\n"
     ]
    }
   ],
   "source": [
    "# this is much better\n",
    "\n",
    "def get_fizzbizz_value(arr):\n",
    "    for x in arr:\n",
    "        if x%3==0 and x%5==0:\n",
    "            print('fizzbuzz')\n",
    "            print('fizzbuzz value:', x)\n",
    "            return x\n",
    "    print('no fizzbuzz')\n",
    "    return -1\n",
    "\n",
    "values = [16, 25, 34, 30, 3, 5,]\n",
    "answer = get_fizzbizz_value(values)"
   ]
  },
  {
   "source": [],
   "cell_type": "markdown",
   "metadata": {}
  }
 ]
}